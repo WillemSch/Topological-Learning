{
 "cells": [
  {
   "cell_type": "markdown",
   "source": [
    "# Graphs"
   ],
   "metadata": {
    "collapsed": false,
    "pycharm": {
     "name": "#%% md\n"
    }
   }
  },
  {
   "cell_type": "code",
   "execution_count": 1,
   "metadata": {
    "collapsed": true
   },
   "outputs": [],
   "source": [
    "import Graph\n",
    "import SelfOrganisingGraphs\n",
    "from matplotlib import pyplot as plt\n",
    "import networkx as nx\n",
    "from sklearn import datasets"
   ]
  },
  {
   "cell_type": "markdown",
   "source": [
    "### Usage\n",
    "The implementation for the Self-Organising-Maps can take any Graph as input. Users can define graphs themselves, or\n",
    "generate square- or hexagonal grids using the built-in methods (example below). In a square grid graph a node is\n",
    "connected to its direct dimensional neighbours."
   ],
   "metadata": {
    "collapsed": false,
    "pycharm": {
     "name": "#%% md\n"
    }
   }
  },
  {
   "cell_type": "code",
   "execution_count": 2,
   "outputs": [
    {
     "data": {
      "text/plain": "<Figure size 432x288 with 1 Axes>",
      "image/png": "[encoded data removed]"
     },
     "metadata": {},
     "output_type": "display_data"
    }
   ],
   "source": [
    "grid2x2 = Graph.create_grid((2,2))\n",
    "nx_graph = grid2x2.to_nx_graph()\n",
    "\n",
    "fig, ax = plt.subplots()\n",
    "nx.draw(nx_graph, nx.get_node_attributes(nx_graph,'pos'))\n",
    "limits=plt.axis('on')\n",
    "ax.tick_params(left=True, bottom=True, labelleft=True, labelbottom=True)\n",
    "plt.show()\n",
    "plt.close(fig)"
   ],
   "metadata": {
    "collapsed": false,
    "pycharm": {
     "name": "#%%\n"
    }
   }
  },
  {
   "cell_type": "code",
   "execution_count": 3,
   "outputs": [
    {
     "name": "stdout",
     "output_type": "stream",
     "text": [
      "The nodes of the graph have shape (10, 8, 7, 5), with a total of 2800 nodes\n",
      "\n",
      "The neighbours of node at coordinates (1,1,1,1) are:\n",
      "    Node at position - (0.0, 1.0, 1.0, 1.0)\n",
      "    Node at position - (1.0, 0.0, 1.0, 1.0)\n",
      "    Node at position - (1.0, 1.0, 0.0, 1.0)\n",
      "    Node at position - (1.0, 1.0, 1.0, 0.0)\n",
      "    Node at position - (2.0, 1.0, 1.0, 1.0)\n",
      "    Node at position - (1.0, 2.0, 1.0, 1.0)\n",
      "    Node at position - (1.0, 1.0, 2.0, 1.0)\n",
      "    Node at position - (1.0, 1.0, 1.0, 2.0)\n"
     ]
    }
   ],
   "source": [
    "# Create a 4 dimensional square-grid graph of shape (10,8,7,5)\n",
    "square_grid = Graph.create_grid((10,8,7,5))\n",
    "print(f\"The nodes of the graph have shape {square_grid.nodes.shape}, \"\n",
    "      f\"with a total of {len(square_grid.nodes.flatten())} nodes\")\n",
    "\n",
    "print(f\"\\nThe neighbours of node at coordinates (1,1,1,1) are:\")\n",
    "for node in square_grid.nodes[(1,1,1,1)].neighbours:\n",
    "    print(f\"    Node at position - {node.coordinates}\")"
   ],
   "metadata": {
    "collapsed": false,
    "pycharm": {
     "name": "#%%\n"
    }
   }
  },
  {
   "cell_type": "markdown",
   "source": [
    "Note that the coordinates of nodes correspond to their location in the grid, with a step size of 1. If a different step\n",
    "size is desired this can be changed in the ```create_grid()``` function using the ```coord_scale``` parameter (default\n",
    "is 1).\n",
    "\n",
    "**Important**: The ```coord_scale``` needs to be set at a positive or negative value which is not 0."
   ],
   "metadata": {
    "collapsed": false,
    "pycharm": {
     "name": "#%% md\n"
    }
   }
  },
  {
   "cell_type": "markdown",
   "source": [
    "Different graphs can be created by the user for the SOM algorithm. below is an example of a graph consisting of 2\n",
    "unconnected lines:"
   ],
   "metadata": {
    "collapsed": false,
    "pycharm": {
     "name": "#%% md\n"
    }
   }
  },
  {
   "cell_type": "code",
   "execution_count": 8,
   "outputs": [
    {
     "data": {
      "text/plain": "<Figure size 432x288 with 1 Axes>",
      "image/png": "[encoded data removed]"
     },
     "metadata": {},
     "output_type": "display_data"
    }
   ],
   "source": [
    "# In order to plot the graphs using networkX the coordinates need to be 2 dimensional\n",
    "def make_lines() :\n",
    "    g = Graph.Graph(7, dimensions=2)\n",
    "\n",
    "    g.nodes[1].connect(g.nodes[0])\n",
    "    g.nodes[1].connect(g.nodes[2])\n",
    "    g.nodes[4].connect(g.nodes[3])\n",
    "    g.nodes[4].connect(g.nodes[5])\n",
    "    g.nodes[5].connect(g.nodes[6])\n",
    "\n",
    "    return g\n",
    "\n",
    "lines = make_lines()\n",
    "\n",
    "nx_graph = lines.to_nx_graph()\n",
    "fig, ax = plt.subplots()\n",
    "nx.draw(nx_graph, nx.get_node_attributes(nx_graph,'pos'))\n",
    "limits=plt.axis('on')\n",
    "ax.tick_params(left=True, bottom=True, labelleft=True, labelbottom=True)\n",
    "plt.show()\n",
    "plt.close(fig)"
   ],
   "metadata": {
    "collapsed": false,
    "pycharm": {
     "name": "#%%\n"
    }
   }
  },
  {
   "cell_type": "code",
   "execution_count": 10,
   "outputs": [
    {
     "data": {
      "text/plain": "<Figure size 432x288 with 1 Axes>",
      "image/png": "[encoded data removed]"
     },
     "metadata": {},
     "output_type": "display_data"
    },
    {
     "name": "stdout",
     "output_type": "stream",
     "text": [
      "Completed epoch\n",
      "Completed epoch\n",
      "Completed epoch\n",
      "Completed epoch\n",
      "Completed epoch\n",
      "Completed epoch\n",
      "Completed epoch\n",
      "Completed epoch\n",
      "Completed epoch\n",
      "Completed epoch\n"
     ]
    },
    {
     "data": {
      "text/plain": "<Figure size 432x288 with 1 Axes>",
      "image/png": "[encoded data removed]"
     },
     "metadata": {},
     "output_type": "display_data"
    }
   ],
   "source": [
    "lines = make_lines()\n",
    "nx_graph = lines.to_nx_graph()\n",
    "x, y = datasets.make_blobs(random_state=47, center_box=(-5,5))\n",
    "plt.scatter(x[:, 0], x[:, 1])\n",
    "nx.draw(nx_graph, nx.get_node_attributes(nx_graph,'pos'))\n",
    "plt.show()\n",
    "plt.close()\n",
    "\n",
    "\n",
    "som = SelfOrganisingGraphs.SOM(lines)\n",
    "som.fit(x)\n",
    "nx_graph = lines.to_nx_graph()\n",
    "plt.scatter(x[:, 0], x[:, 1])\n",
    "nx.draw(nx_graph, nx.get_node_attributes(nx_graph,'pos'))\n",
    "plt.show()\n",
    "plt.close()"
   ],
   "metadata": {
    "collapsed": false,
    "pycharm": {
     "name": "#%%\n"
    }
   }
  }
 ],
 "metadata": {
  "kernelspec": {
   "display_name": "Python 3",
   "language": "python",
   "name": "python3"
  },
  "language_info": {
   "codemirror_mode": {
    "name": "ipython",
    "version": 2
   },
   "file_extension": ".py",
   "mimetype": "text/x-python",
   "name": "python",
   "nbconvert_exporter": "python",
   "pygments_lexer": "ipython2",
   "version": "2.7.6"
  },
  "pycharm": {
   "stem_cell": {
    "cell_type": "raw",
    "source": [
     "%load_ext autoreload\n",
     "\n",
     "%autoreload 2\n"
    ],
    "metadata": {
     "collapsed": false
    }
   }
  }
 },
 "nbformat": 4,
 "nbformat_minor": 0
}